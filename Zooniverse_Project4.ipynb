{
 "cells": [
  {
   "cell_type": "code",
   "execution_count": 22,
   "metadata": {},
   "outputs": [],
   "source": [
    "#Importing all the necessary Goodies\n",
    "import matplotlib.pyplot as plt\n",
    "import numpy as np\n",
    "from marvin.tools.maps import Maps\n",
    "import marvin.utils.plot.map as mapplot\n",
    "from marvin.tools.image import Image\n",
    "plt.style.use('seaborn-darkgrid')  # set matplotlib style sheet\n",
    "from astropy.table import Table\n",
    "import marvin"
   ]
  },
  {
   "cell_type": "code",
   "execution_count": 23,
   "metadata": {},
   "outputs": [
    {
     "name": "stderr",
     "output_type": "stream",
     "text": [
      "/packages/python3.6.8/lib/python3.6/site-packages/ipykernel_launcher.py:8: ResourceWarning: unclosed file <_io.TextIOWrapper name='manifest.txt' mode='w+' encoding='UTF-8'>\n",
      "  \n"
     ]
    }
   ],
   "source": [
    "#pulling in the table for galaxies\n",
    "t = Table.read('z_Ha_filt.fits')\n",
    "\n",
    "#setting up the range\n",
    "n = len(t[\"PLATEIFU\"])\n",
    "\n",
    "#opening up and making a file\n",
    "f= open(\"manifest.txt\",\"w+\")\n",
    "link = 'https://lore.sdss.utah.edu/marvin/galaxy/'\n",
    "f.write('plate-ifu, Ha, EW, IMG, link')\n",
    "\n",
    "#making a for-loop to write the txt file\n",
    "for i in range(n):\n",
    "    #defining the name for each galaxy\n",
    "    name = t[\"PLATEIFU\"][i]\n",
    "    HA = name+'.png'\n",
    "    EW = name+'EW.png'\n",
    "    IMG = name+'IMG.png'\n",
    "    L = [name, ',' , HA, ',', EW, ',', IMG, ',' , link+name,'\\n']\n",
    "    f.writelines(L)\n"
   ]
  },
  {
   "cell_type": "code",
   "execution_count": null,
   "metadata": {},
   "outputs": [],
   "source": []
  }
 ],
 "metadata": {
  "kernelspec": {
   "display_name": "python-3.6.8",
   "language": "python",
   "name": "python-3.6.8"
  },
  "language_info": {
   "codemirror_mode": {
    "name": "ipython",
    "version": 3
   },
   "file_extension": ".py",
   "mimetype": "text/x-python",
   "name": "python",
   "nbconvert_exporter": "python",
   "pygments_lexer": "ipython3",
   "version": "3.6.8"
  }
 },
 "nbformat": 4,
 "nbformat_minor": 2
}
