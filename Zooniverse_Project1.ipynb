{
 "cells": [
  {
   "cell_type": "code",
   "execution_count": 1,
   "metadata": {},
   "outputs": [
    {
     "name": "stderr",
     "output_type": "stream",
     "text": [
      "/packages/python3.6.8/lib/python3.6/site-packages/pandas-1.0.1-py3.6-linux-x86_64.egg/pandas/compat/__init__.py:117: UserWarning: Could not import the lzma module. Your installed Python is incomplete. Attempting to use lzma compression will result in a RuntimeError.\n",
      "  warnings.warn(msg)\n"
     ]
    },
    {
     "name": "stdout",
     "output_type": "stream",
     "text": [
      "INFO: No release version set. Setting default to DR15\n"
     ]
    },
    {
     "name": "stderr",
     "output_type": "stream",
     "text": [
      "/packages/python3.6.8/lib/python3.6/importlib/_bootstrap.py:219: RuntimeWarning: numpy.ufunc size changed, may indicate binary incompatibility. Expected 216, got 192\n",
      "  return f(*args, **kwds)\n",
      "/packages/python3.6.8/lib/python3.6/importlib/_bootstrap.py:219: RuntimeWarning: numpy.ufunc size changed, may indicate binary incompatibility. Expected 216, got 192\n",
      "  return f(*args, **kwds)\n",
      "/packages/python3.6.8/lib/python3.6/importlib/_bootstrap.py:219: RuntimeWarning: numpy.ufunc size changed, may indicate binary incompatibility. Expected 192 from C header, got 216 from PyObject\n",
      "  return f(*args, **kwds)\n",
      "/packages/python3.6.8/lib/python3.6/importlib/_bootstrap.py:219: RuntimeWarning: numpy.ufunc size changed, may indicate binary incompatibility. Expected 192 from C header, got 216 from PyObject\n",
      "  return f(*args, **kwds)\n",
      "/packages/python3.6.8/lib/python3.6/importlib/_bootstrap.py:219: RuntimeWarning: numpy.ufunc size changed, may indicate binary incompatibility. Expected 216, got 192\n",
      "  return f(*args, **kwds)\n"
     ]
    },
    {
     "name": "stdout",
     "output_type": "stream",
     "text": [
      "MPL-9\n"
     ]
    },
    {
     "name": "stderr",
     "output_type": "stream",
     "text": [
      "/packages/python3.6.8/lib/python3.6/importlib/_bootstrap.py:219: RuntimeWarning: numpy.ufunc size changed, may indicate binary incompatibility. Expected 192 from C header, got 216 from PyObject\n",
      "  return f(*args, **kwds)\n",
      "/packages/python3.6.8/lib/python3.6/site-packages/marvin/__init__.py:370: MarvinUserWarning: path /homes/nwolthuis/sas/mangawork/manga/spectro/redux/v2_7_1/drpall-v2_7_1.fits cannot be found. Setting drpall to None.\n",
      "  .format(value), MarvinUserWarning)\n"
     ]
    }
   ],
   "source": [
    "import numpy as np\n",
    "import pandas as pd\n",
    "import matplotlib.pyplot as plt\n",
    "\n",
    "from marvin import config\n",
    "from marvin import config\n",
    "config.access = 'collab'\n",
    "\n",
    "# switch to an MPL\n",
    "config.setRelease('MPL-9')\n",
    "print(config.release)\n",
    "from marvin.tools.maps import Maps\n",
    "\n",
    "import astropy\n",
    "from astropy.io import fits\n"
   ]
  },
  {
   "cell_type": "code",
   "execution_count": 2,
   "metadata": {},
   "outputs": [
    {
     "name": "stdout",
     "output_type": "stream",
     "text": [
      "Filename: /raid5/homes/nwolthuis/dapall-v2_4_3-2.2.1.fits\n",
      "No.    Name      Ver    Type      Cards   Dimensions   Format\n",
      "  0  PRIMARY       1 PrimaryHDU     145   ()      \n",
      "  1  DAPALL        1 BinTableHDU    191   9462R x 90C   [1K, 1K, 12A, 10A, 1K, 4A, 20A, 1L, 1E, 1E, 1E, 1E, 1K, 1K, 1K, 1E, 1E, 1E, 1E, 1E, 1E, 1E, 1E, 1E, 1E, 1E, 1E, 1E, 1E, 8A, 8A, 8A, 8A, 8A, 1K, 1K, 14A, 14A, 14A, 14A, 14A, 14A, 10A, 1E, 15A, 10A, 1K, 1E, 4E, 4E, 1E, 1E, 3E, 3E, 1E, 1E, 1E, 1E, 1E, 1E, 1E, 1E, 1E, 1E, 1E, 1E, 1E, 1E, 1E, 22E, 22E, 22E, 22E, 22E, 22E, 22E, 22E, 22E, 22E, 22E, 22E, 22E, 22E, 46E, 46E, 46E, 46E, 46E, 1E, 1E]   \n"
     ]
    }
   ],
   "source": [
    "dapall = fits.open('/raid5/homes/nwolthuis/dapall-v2_4_3-2.2.1.fits', memmap=True)\n",
    "dapall.info()"
   ]
  },
  {
   "cell_type": "code",
   "execution_count": 3,
   "metadata": {},
   "outputs": [
    {
     "data": {
      "text/html": [
       "<i>Table length=9462</i>\n",
       "<table id=\"table139822994888744\" class=\"table-striped table-bordered table-condensed\">\n",
       "<thead><tr><th>PLATE</th><th>IFUDESIGN</th><th>PLATEIFU</th><th>MANGAID</th><th>DRPALLINDX</th><th>MODE</th><th>DAPTYPE</th><th>DAPDONE</th><th>OBJRA</th><th>OBJDEC</th><th>IFURA</th><th>IFUDEC</th><th>MNGTARG1</th><th>MNGTARG2</th><th>MNGTARG3</th><th>Z</th><th>LDIST_Z</th><th>ADIST_Z</th><th>NSA_Z</th><th>NSA_ZDIST</th><th>LDIST_NSA_Z</th><th>ADIST_NSA_Z</th><th>NSA_ELPETRO_BA</th><th>NSA_ELPETRO_PHI</th><th>NSA_ELPETRO_TH50_R</th><th>NSA_SERSIC_BA</th><th>NSA_SERSIC_PHI</th><th>NSA_SERSIC_TH50</th><th>NSA_SERSIC_N</th><th>VERSDRP2</th><th>VERSDRP3</th><th>VERSCORE</th><th>VERSUTIL</th><th>VERSDAP</th><th>DRP3QUAL</th><th>DAPQUAL</th><th>RDXQAKEY</th><th>BINKEY</th><th>SCKEY</th><th>ELMKEY</th><th>ELFKEY</th><th>SIKEY</th><th>BINTYPE</th><th>BINSNR</th><th>TPLKEY</th><th>DATEDAP</th><th>DAPBINS</th><th>RCOV90</th><th>SNR_MED [4]</th><th>SNR_RING [4]</th><th>SB_1RE</th><th>BIN_RMAX</th><th>BIN_R_N [3]</th><th>BIN_R_SNR [3]</th><th>STELLAR_Z</th><th>STELLAR_VEL_LO</th><th>STELLAR_VEL_HI</th><th>STELLAR_VEL_LO_CLIP</th><th>STELLAR_VEL_HI_CLIP</th><th>STELLAR_SIGMA_1RE</th><th>STELLAR_CONT_RCHI2_1RE</th><th>HA_Z</th><th>HA_GVEL_LO</th><th>HA_GVEL_HI</th><th>HA_GVEL_LO_CLIP</th><th>HA_GVEL_HI_CLIP</th><th>HA_GSIGMA_1RE</th><th>HA_GSIGMA_HI</th><th>HA_GSIGMA_HI_CLIP</th><th>EMLINE_SFLUX_CEN [22]</th><th>EMLINE_SFLUX_1RE [22]</th><th>EMLINE_SFLUX_TOT [22]</th><th>EMLINE_SSB_1RE [22]</th><th>EMLINE_SSB_PEAK [22]</th><th>EMLINE_SEW_1RE [22]</th><th>EMLINE_SEW_PEAK [22]</th><th>EMLINE_GFLUX_CEN [22]</th><th>EMLINE_GFLUX_1RE [22]</th><th>EMLINE_GFLUX_TOT [22]</th><th>EMLINE_GSB_1RE [22]</th><th>EMLINE_GSB_PEAK [22]</th><th>EMLINE_GEW_1RE [22]</th><th>EMLINE_GEW_PEAK [22]</th><th>SPECINDEX_LO [46]</th><th>SPECINDEX_HI [46]</th><th>SPECINDEX_LO_CLIP [46]</th><th>SPECINDEX_HI_CLIP [46]</th><th>SPECINDEX_1RE [46]</th><th>SFR_1RE</th><th>SFR_TOT</th></tr></thead>\n",
       "<thead><tr><th>int64</th><th>int64</th><th>str12</th><th>str10</th><th>int64</th><th>str4</th><th>str20</th><th>bool</th><th>float32</th><th>float32</th><th>float32</th><th>float32</th><th>int64</th><th>int64</th><th>int64</th><th>float32</th><th>float32</th><th>float32</th><th>float32</th><th>float32</th><th>float32</th><th>float32</th><th>float32</th><th>float32</th><th>float32</th><th>float32</th><th>float32</th><th>float32</th><th>float32</th><th>str8</th><th>str8</th><th>str8</th><th>str8</th><th>str8</th><th>int64</th><th>int64</th><th>str14</th><th>str14</th><th>str14</th><th>str14</th><th>str14</th><th>str14</th><th>str10</th><th>float32</th><th>str15</th><th>str10</th><th>int64</th><th>float32</th><th>float32</th><th>float32</th><th>float32</th><th>float32</th><th>float32</th><th>float32</th><th>float32</th><th>float32</th><th>float32</th><th>float32</th><th>float32</th><th>float32</th><th>float32</th><th>float32</th><th>float32</th><th>float32</th><th>float32</th><th>float32</th><th>float32</th><th>float32</th><th>float32</th><th>float32</th><th>float32</th><th>float32</th><th>float32</th><th>float32</th><th>float32</th><th>float32</th><th>float32</th><th>float32</th><th>float32</th><th>float32</th><th>float32</th><th>float32</th><th>float32</th><th>float32</th><th>float32</th><th>float32</th><th>float32</th><th>float32</th><th>float32</th><th>float32</th></tr></thead>\n",
       "<tr><td>7443</td><td>3702</td><td>7443-3702</td><td>12-84670</td><td>5639</td><td>CUBE</td><td>VOR10-GAU-MILESHC</td><td>True</td><td>230.59834</td><td>43.367775</td><td>230.59834</td><td>43.367775</td><td>2084</td><td>0</td><td>0</td><td>0.110451</td><td>358.36856</td><td>290.62375</td><td>0.110451</td><td>0.110826</td><td>358.36856</td><td>290.62375</td><td>0.950645</td><td>129.197</td><td>2.62501</td><td>0.950969</td><td>119.189</td><td>3.67769</td><td>6.0</td><td>v2_4_3</td><td>v2_4_3</td><td>v1_6_2</td><td>v5_5_32</td><td>2.2.1</td><td>0</td><td>0</td><td>SNRG</td><td>VOR10</td><td>GAU-MILESHC</td><td>EMOMM</td><td>EFITM</td><td>INDXEN</td><td>voronoi</td><td>10.0</td><td>MILESHC</td><td>2018-07-22</td><td>167</td><td>6.914666</td><td>10.952976 .. 18.888237</td><td>33.231403 .. 40.19828</td><td>0.37402067</td><td>2.5787158</td><td>83.0 .. 24.0</td><td>25.164486 .. 5.2364426</td><td>0.11051706</td><td>-2.8240259</td><td>38.994755</td><td>6.4237604</td><td>36.509434</td><td>211.10222</td><td>1.1987499</td><td>0.110653296</td><td>-245.83792</td><td>652.2087</td><td>-246.0815</td><td>307.3694</td><td>567.52246</td><td>830.49774</td><td>277.32938</td><td>7.938205 .. 2.1902092</td><td>17.21147 .. 7.174213</td><td>20.296412 .. 9.624236</td><td>0.2073671 .. 0.0864363</td><td>0.5293802 .. 0.3614357</td><td>0.79454935 .. 0.13224782</td><td>7.0066595 .. 1.3610007</td><td>1.1797833 .. 1.7105808</td><td>12.374993 .. 5.139022</td><td>16.370144 .. 7.304468</td><td>0.16952045 .. 0.0734146</td><td>0.5812011 .. 0.3259229</td><td>0.8292127 .. 0.11086627</td><td>7.643853 .. 1.1514542</td><td>0.017839236 .. 1.0068691</td><td>0.101022206 .. 1.3485389</td><td>0.02242953 .. 1.0057915</td><td>0.10111492 .. 1.1503206</td><td>0.061180163 .. 1.0621667</td><td>0.008840282</td><td>0.011661153</td></tr>\n",
       "<tr><td>7443</td><td>1901</td><td>7443-1901</td><td>12-84620</td><td>3590</td><td>CUBE</td><td>VOR10-GAU-MILESHC</td><td>True</td><td>231.0426</td><td>42.06872</td><td>231.0426</td><td>42.06872</td><td>1170</td><td>0</td><td>0</td><td>0.0187596</td><td>57.05211</td><td>54.97032</td><td>0.0187596</td><td>0.0192718</td><td>57.05211</td><td>54.97032</td><td>0.821508</td><td>68.4571</td><td>3.77785</td><td>0.755584</td><td>70.8619</td><td>4.07204</td><td>2.18439</td><td>v2_4_3</td><td>v2_4_3</td><td>v1_6_2</td><td>v5_5_32</td><td>2.2.1</td><td>0</td><td>0</td><td>SNRG</td><td>VOR10</td><td>GAU-MILESHC</td><td>EMOMM</td><td>EFITM</td><td>INDXEN</td><td>voronoi</td><td>10.0</td><td>MILESHC</td><td>2018-07-22</td><td>285</td><td>5.139017</td><td>10.374874 .. 10.544022</td><td>39.459602 .. 24.563507</td><td>0.4510729</td><td>1.8153713</td><td>151.0 .. 23.0</td><td>26.640457 .. 6.809965</td><td>0.018760908</td><td>-45.762894</td><td>57.178535</td><td>-45.795753</td><td>50.75654</td><td>55.2375</td><td>1.2484871</td><td>0.018760847</td><td>-42.970913</td><td>32.93186</td><td>-42.970913</td><td>32.93186</td><td>39.82803</td><td>57.269886</td><td>51.423687</td><td>394.17834 .. 80.10422</td><td>1456.3007 .. 285.008</td><td>1769.7047 .. 348.54822</td><td>9.644375 .. 1.8874701</td><td>24.30806 .. 4.7342467</td><td>26.290638 .. 4.3349285</td><td>43.86556 .. 8.359218</td><td>163.31873 .. 81.9189</td><td>599.98364 .. 289.80682</td><td>727.84766 .. 353.22028</td><td>3.9734015 .. 1.9192505</td><td>10.106485 .. 4.840775</td><td>10.746245 .. 4.407545</td><td>19.05313 .. 8.238495</td><td>-0.122679114 .. 0.901748</td><td>-0.03284198 .. 1.044389</td><td>-0.12064013 .. 0.9083096</td><td>-0.03681758 .. 1.0444037</td><td>-0.09414587 .. 1.0035086</td><td>0.03705121</td><td>0.0440793</td></tr>\n",
       "<tr><td>7443</td><td>1902</td><td>7443-1902</td><td>12-49536</td><td>4162</td><td>CUBE</td><td>VOR10-GAU-MILESHC</td><td>True</td><td>231.9911</td><td>42.971207</td><td>231.9911</td><td>42.971207</td><td>1554</td><td>0</td><td>0</td><td>0.0189259</td><td>57.565075</td><td>55.446465</td><td>0.0189259</td><td>0.019434</td><td>57.565075</td><td>55.446465</td><td>0.483014</td><td>163.621</td><td>5.70501</td><td>0.3686</td><td>7.79376</td><td>4.32771</td><td>2.75541</td><td>v2_4_3</td><td>v2_4_3</td><td>v1_6_2</td><td>v5_5_32</td><td>2.2.1</td><td>0</td><td>0</td><td>SNRG</td><td>VOR10</td><td>GAU-MILESHC</td><td>EMOMM</td><td>EFITM</td><td>INDXEN</td><td>voronoi</td><td>10.0</td><td>MILESHC</td><td>2018-07-22</td><td>314</td><td>5.355226</td><td>12.739592 .. 15.453604</td><td>39.60812 .. 35.649</td><td>0.46809328</td><td>1.9661245</td><td>187.0 .. 30.0</td><td>30.276323 .. 9.3084</td><td>0.018887836</td><td>-52.915756</td><td>34.033573</td><td>-52.915756</td><td>34.033573</td><td>49.753647</td><td>1.1191082</td><td>0.018838761</td><td>-648.7302</td><td>724.0842</td><td>-328.20148</td><td>131.20714</td><td>268.55972</td><td>582.2413</td><td>280.24405</td><td>-2.1009784 .. -0.8782528</td><td>9.768521 .. -5.754404</td><td>18.17896 .. -7.9594417</td><td>0.05223808 .. -0.030772215</td><td>0.86341983 .. 0.45189536</td><td>0.11314727 .. -0.06629573</td><td>13.303715 .. 0.8553213</td><td>2.401185 .. 0.5323453</td><td>10.895376 .. 6.548277</td><td>16.248268 .. 7.9738145</td><td>0.071211606 .. 0.04170877</td><td>0.8394804 .. 0.7415206</td><td>0.2591666 .. 0.07484652</td><td>6.2055984 .. 1.1932552</td><td>-0.06651641 .. 0.99095577</td><td>0.034297872 .. 1.0541543</td><td>-0.05425938 .. 0.9911389</td><td>0.026141826 .. 1.0512366</td><td>-0.02161406 .. 1.026912</td><td>0.0002788841</td><td>0.00041869978</td></tr>\n",
       "<tr><td>7443</td><td>3704</td><td>7443-3704</td><td>12-84617</td><td>7316</td><td>CUBE</td><td>VOR10-GAU-MILESHC</td><td>True</td><td>231.47876</td><td>41.90977</td><td>231.47876</td><td>41.909775</td><td>2</td><td>0</td><td>0</td><td>0.0226546</td><td>69.099686</td><td>66.0721</td><td>0.0226546</td><td>0.023017</td><td>69.099686</td><td>66.0721</td><td>0.634886</td><td>62.2877</td><td>3.02087</td><td>0.480331</td><td>61.9103</td><td>3.25279</td><td>1.64412</td><td>v2_4_3</td><td>v2_4_3</td><td>v1_6_2</td><td>v5_5_32</td><td>2.2.1</td><td>0</td><td>0</td><td>SNRG</td><td>VOR10</td><td>GAU-MILESHC</td><td>EMOMM</td><td>EFITM</td><td>INDXEN</td><td>voronoi</td><td>10.0</td><td>MILESHC</td><td>2018-07-22</td><td>166</td><td>6.9030423</td><td>11.541642 .. 11.0249405</td><td>33.855396 .. 19.735096</td><td>0.3496707</td><td>2.4581795</td><td>75.0 .. 36.0</td><td>23.10212 .. 4.7508535</td><td>0.022601768</td><td>-72.10222</td><td>16.030682</td><td>-49.23208</td><td>14.272818</td><td>61.60966</td><td>1.0568724</td><td>0.02264691</td><td>-70.55312</td><td>39.673805</td><td>-70.55312</td><td>39.673805</td><td>36.52858</td><td>47.99922</td><td>44.8525</td><td>242.26001 .. 37.2025</td><td>621.2983 .. 94.54959</td><td>890.15247 .. 134.7881</td><td>8.2839775 .. 1.2606612</td><td>13.425876 .. 2.0915506</td><td>28.63455 .. 4.3591876</td><td>75.61651 .. 8.098826</td><td>98.37353 .. 37.7892</td><td>253.45457 .. 96.39532</td><td>361.7152 .. 137.37111</td><td>3.3793943 .. 1.2852709</td><td>5.4516816 .. 2.083577</td><td>11.727568 .. 4.4521427</td><td>22.70384 .. 7.703971</td><td>-0.17201106 .. 0.78439504</td><td>0.00028586332 .. 1.0364649</td><td>-0.1579001 .. 0.8792111</td><td>-0.029026177 .. 1.0369755</td><td>-0.09523933 .. 1.0148635</td><td>0.018245364</td><td>0.025254043</td></tr>\n",
       "<tr><td>7443</td><td>3701</td><td>7443-3701</td><td>12-193534</td><td>5256</td><td>CUBE</td><td>VOR10-GAU-MILESHC</td><td>True</td><td>230.57437</td><td>42.28702</td><td>230.57439</td><td>42.28702</td><td>1170</td><td>0</td><td>0</td><td>0.0178955</td><td>54.38872</td><td>52.49313</td><td>0.0178955</td><td>0.0185246</td><td>54.38872</td><td>52.49313</td><td>0.618084</td><td>134.802</td><td>4.6143</td><td>0.54137</td><td>134.602</td><td>4.75091</td><td>1.26508</td><td>v2_4_3</td><td>v2_4_3</td><td>v1_6_2</td><td>v5_5_32</td><td>2.2.1</td><td>0</td><td>0</td><td>SNRG</td><td>VOR10</td><td>GAU-MILESHC</td><td>EMOMM</td><td>EFITM</td><td>INDXEN</td><td>voronoi</td><td>10.0</td><td>MILESHC</td><td>2018-07-21</td><td>289</td><td>7.550871</td><td>9.470952 .. 8.026671</td><td>37.8386 .. 18.54229</td><td>0.30078986</td><td>2.2096183</td><td>158.0 .. 28.0</td><td>20.888731 .. 5.8406696</td><td>0.017913286</td><td>-22.29905</td><td>23.947563</td><td>-21.294352</td><td>20.496246</td><td>47.976162</td><td>1.0271637</td><td>0.017900627</td><td>-33.51593</td><td>47.150795</td><td>-33.51593</td><td>47.150795</td><td>27.105396</td><td>36.578545</td><td>33.8784</td><td>155.12727 .. 27.910389</td><td>1060.209 .. 172.82613</td><td>1524.9257 .. 236.63916</td><td>6.7101836 .. 1.0938362</td><td>14.170925 .. 1.9510913</td><td>29.747663 .. 4.68206</td><td>77.80525 .. 11.889169</td><td>65.03033 .. 29.657047</td><td>440.63803 .. 180.60277</td><td>629.9056 .. 247.26163</td><td>2.7888484 .. 1.1430554</td><td>6.004847 .. 2.0288699</td><td>12.339295 .. 4.897722</td><td>31.740868 .. 12.270254</td><td>-0.12872073 .. 0.9543232</td><td>-0.022481982 .. 1.1267616</td><td>-0.12872425 .. 0.96323615</td><td>-0.031368986 .. 1.0869951</td><td>-0.09720621 .. 1.0146942</td><td>0.01941058</td><td>0.027855627</td></tr>\n",
       "<tr><td>7443</td><td>12702</td><td>7443-12702</td><td>12-84674</td><td>1177</td><td>CUBE</td><td>VOR10-GAU-MILESHC</td><td>True</td><td>231.3607</td><td>43.169895</td><td>231.36066</td><td>43.167507</td><td>4</td><td>0</td><td>0</td><td>0.0575241</td><td>179.98524</td><td>160.93716</td><td>0.0575241</td><td>0.0579022</td><td>179.98524</td><td>160.93716</td><td>0.96167</td><td>138.953</td><td>5.28583</td><td>0.935884</td><td>100.382</td><td>6.32233</td><td>1.65949</td><td>v2_4_3</td><td>v2_4_3</td><td>v1_6_2</td><td>v5_5_32</td><td>2.2.1</td><td>0</td><td>1</td><td>SNRG</td><td>VOR10</td><td>GAU-MILESHC</td><td>EMOMM</td><td>EFITM</td><td>INDXEN</td><td>voronoi</td><td>10.0</td><td>MILESHC</td><td>2018-07-22</td><td>470</td><td>5.9720626</td><td>8.518607 .. 9.210375</td><td>33.854683 .. 25.604733</td><td>0.17910087</td><td>2.4895244</td><td>333.0 .. 21.0</td><td>14.158045 .. 7.5198407</td><td>0.057538167</td><td>-49.667145</td><td>57.87214</td><td>-49.667145</td><td>57.87214</td><td>53.350388</td><td>0.9274679</td><td>0.05754709</td><td>-57.033073</td><td>63.18547</td><td>-57.033073</td><td>63.18547</td><td>30.546785</td><td>47.074306</td><td>34.55358</td><td>8.454704 .. 4.310455</td><td>167.78874 .. 82.130516</td><td>279.73483 .. 117.26142</td><td>0.50387007 .. 0.2466382</td><td>1.6251848 .. 0.5660634</td><td>4.544333 .. 1.3773073</td><td>28.801836 .. 6.056546</td><td>4.1423154 .. 4.18876</td><td>78.15415 .. 84.280014</td><td>125.44296 .. 121.084465</td><td>0.23469715 .. 0.25309312</td><td>0.7309971 .. 0.54263985</td><td>2.089918 .. 1.4056469</td><td>11.620245 .. 5.661408</td><td>-0.117120266 .. 0.7197691</td><td>0.0047459686 .. 1.0861418</td><td>-0.11548236 .. 0.78391975</td><td>0.004749017 .. 1.0772156</td><td>-0.032650594 .. 0.9754365</td><td>0.159851</td><td>0.21794325</td></tr>\n",
       "<tr><td>7443</td><td>6104</td><td>7443-6104</td><td>12-84677</td><td>10024</td><td>CUBE</td><td>VOR10-GAU-MILESHC</td><td>True</td><td>232.15807</td><td>42.442017</td><td>232.15807</td><td>42.442017</td><td>2</td><td>0</td><td>0</td><td>0.075096</td><td>237.88838</td><td>205.81581</td><td>0.075096</td><td>0.0754706</td><td>237.88838</td><td>205.81581</td><td>0.824902</td><td>113.234</td><td>4.92207</td><td>0.7556</td><td>111.324</td><td>6.35499</td><td>3.07986</td><td>v2_4_3</td><td>v2_4_3</td><td>v1_6_2</td><td>v5_5_32</td><td>2.2.1</td><td>0</td><td>0</td><td>SNRG</td><td>VOR10</td><td>GAU-MILESHC</td><td>EMOMM</td><td>EFITM</td><td>INDXEN</td><td>voronoi</td><td>10.0</td><td>MILESHC</td><td>2018-07-22</td><td>428</td><td>9.862125</td><td>9.622334 .. 14.923395</td><td>41.966473 .. 42.165943</td><td>0.33039948</td><td>2.2115428</td><td>251.0 .. 33.0</td><td>19.954548 .. 6.5937266</td><td>0.07505741</td><td>-152.79593</td><td>134.80907</td><td>-152.79593</td><td>134.80907</td><td>137.7011</td><td>1.0484679</td><td>0.0750753</td><td>-136.05376</td><td>268.9523</td><td>-132.45221</td><td>265.06808</td><td>155.17604</td><td>238.46353</td><td>193.3014</td><td>100.18026 .. 25.612225</td><td>375.4946 .. 65.09717</td><td>428.22076 .. 59.00734</td><td>1.4959944 .. 0.25935125</td><td>5.7635956 .. 1.5212959</td><td>6.650205 .. 0.31898364</td><td>21.344294 .. 1.9448782</td><td>44.482315 .. 24.303984</td><td>169.58849 .. 70.67964</td><td>197.62315 .. 76.608955</td><td>0.6756513 .. 0.2815922</td><td>2.6550782 .. 1.5472811</td><td>3.073409 .. 0.42376363</td><td>9.965776 .. 1.5673639</td><td>-0.03966071 .. 0.8841809</td><td>0.09236036 .. 1.1128409</td><td>-0.035401534 .. 0.98084503</td><td>0.09212668 .. 1.1075678</td><td>0.03675774 .. 1.0481045</td><td>0.07346086</td><td>0.08496821</td></tr>\n",
       "<tr><td>7443</td><td>12705</td><td>7443-12705</td><td>12-84627</td><td>3287</td><td>CUBE</td><td>VOR10-GAU-MILESHC</td><td>True</td><td>230.15302</td><td>41.960438</td><td>230.15302</td><td>41.960438</td><td>4</td><td>0</td><td>0</td><td>0.0644735</td><td>202.72534</td><td>178.91153</td><td>0.0644735</td><td>0.0648265</td><td>202.72534</td><td>178.91153</td><td>0.481529</td><td>36.9388</td><td>7.37167</td><td>0.361803</td><td>36.7946</td><td>8.42868</td><td>0.985387</td><td>v2_4_3</td><td>v2_4_3</td><td>v1_6_2</td><td>v5_5_32</td><td>2.2.1</td><td>0</td><td>0</td><td>SNRG</td><td>VOR10</td><td>GAU-MILESHC</td><td>EMOMM</td><td>EFITM</td><td>INDXEN</td><td>voronoi</td><td>10.0</td><td>MILESHC</td><td>2018-07-22</td><td>362</td><td>14.639166</td><td>7.511767 .. 8.260697</td><td>37.079575 .. 25.18916</td><td>0.16321985</td><td>1.9436362</td><td>278.0 .. 21.0</td><td>13.608615 .. 6.5087404</td><td>0.06446667</td><td>-145.95273</td><td>171.35077</td><td>-145.95273</td><td>171.35077</td><td>69.39768</td><td>0.9336945</td><td>0.06444086</td><td>-163.75252</td><td>182.65271</td><td>-163.75252</td><td>182.65271</td><td>48.453293</td><td>69.8244</td><td>59.78216</td><td>16.817066 .. 8.425298</td><td>268.3369 .. 102.353</td><td>382.17157 .. 129.01482</td><td>0.9652407 .. 0.36817625</td><td>3.5022562 .. 0.7777449</td><td>8.758482 .. 1.8882769</td><td>48.211994 .. 8.439481</td><td>5.9318595 .. 8.615956</td><td>109.452126 .. 103.41803</td><td>155.09932 .. 130.12636</td><td>0.39371267 .. 0.3720073</td><td>1.4739207 .. 0.78495127</td><td>3.5826778 .. 1.9111335</td><td>18.570436 .. 8.017623</td><td>-0.118528634 .. 0.84540784</td><td>-0.022501552 .. 1.1976968</td><td>-0.11648512 .. 0.8579842</td><td>-0.023637518 .. 1.1610502</td><td>-0.06437164 .. 1.0344517</td><td>0.19318901</td><td>0.23754339</td></tr>\n",
       "<tr><td>7443</td><td>6103</td><td>7443-6103</td><td>12-84665</td><td>8964</td><td>CUBE</td><td>VOR10-GAU-MILESHC</td><td>True</td><td>230.23367</td><td>42.775543</td><td>230.23367</td><td>42.77554</td><td>1042</td><td>0</td><td>0</td><td>0.0183422</td><td>55.76515</td><td>53.774376</td><td>0.0183422</td><td>0.0189103</td><td>55.76515</td><td>53.774376</td><td>0.511936</td><td>18.9185</td><td>6.26699</td><td>0.410986</td><td>20.3233</td><td>6.44672</td><td>0.791366</td><td>v2_4_3</td><td>v2_4_3</td><td>v1_6_2</td><td>v5_5_32</td><td>2.2.1</td><td>0</td><td>0</td><td>SNRG</td><td>VOR10</td><td>GAU-MILESHC</td><td>EMOMM</td><td>EFITM</td><td>INDXEN</td><td>voronoi</td><td>10.0</td><td>MILESHC</td><td>2018-07-22</td><td>679</td><td>10.163113</td><td>16.921791 .. 13.777622</td><td>77.750084 .. 40.262478</td><td>0.47514182</td><td>2.403372</td><td>256.0 .. 137.0</td><td>30.517502 .. 9.909553</td><td>0.01830037</td><td>-81.92601</td><td>75.776054</td><td>-81.93511</td><td>75.67802</td><td>66.226555</td><td>1.1048845</td><td>0.018341782</td><td>-94.688416</td><td>76.73196</td><td>-94.688416</td><td>76.73196</td><td>35.969532</td><td>45.948677</td><td>43.905106</td><td>276.31158 .. 62.89529</td><td>3174.949 .. 596.7409</td><td>5783.5796 .. 1015.42206</td><td>12.402144 .. 2.3310192</td><td>21.373106 .. 3.970992</td><td>34.367207 .. 5.9420485</td><td>84.688835 .. 15.433358</td><td>116.47391 .. 64.027504</td><td>1316.4922 .. 606.3285</td><td>2387.2139 .. 1024.0505</td><td>5.1425476 .. 2.3684707</td><td>8.81231 .. 4.008</td><td>14.270998 .. 6.0373983</td><td>33.63369 .. 15.015257</td><td>-0.14561091 .. 0.96680343</td><td>-0.06108545 .. 1.1495773</td><td>-0.14326538 .. 0.9697868</td><td>-0.069757424 .. 1.0959891</td><td>-0.10598494 .. 1.0204153</td><td>0.076932885</td><td>0.1306153</td></tr>\n",
       "<tr><td>7443</td><td>6102</td><td>7443-6102</td><td>12-180432</td><td>8310</td><td>CUBE</td><td>VOR10-GAU-MILESHC</td><td>True</td><td>231.6067</td><td>42.354027</td><td>231.6067</td><td>42.354027</td><td>1554</td><td>0</td><td>0</td><td>0.0280161</td><td>85.79576</td><td>81.18317</td><td>0.0280161</td><td>0.0283854</td><td>85.79576</td><td>81.18317</td><td>0.718725</td><td>132.932</td><td>5.98851</td><td>0.648263</td><td>132.111</td><td>6.45464</td><td>1.47562</td><td>v2_4_3</td><td>v2_4_3</td><td>v1_6_2</td><td>v5_5_32</td><td>2.2.1</td><td>0</td><td>0</td><td>SNRG</td><td>VOR10</td><td>GAU-MILESHC</td><td>EMOMM</td><td>EFITM</td><td>INDXEN</td><td>voronoi</td><td>10.0</td><td>MILESHC</td><td>2018-07-22</td><td>1034</td><td>9.973251</td><td>19.49531 .. 21.24941</td><td>98.35856 .. 69.72561</td><td>0.7119322</td><td>2.3788643</td><td>326.0 .. 307.0</td><td>39.834335 .. 11.450405</td><td>0.027896136</td><td>-130.91704</td><td>67.11719</td><td>-130.91704</td><td>67.11719</td><td>86.34833</td><td>1.1750818</td><td>0.027905978</td><td>-152.14891</td><td>88.59078</td><td>-152.14891</td><td>88.59078</td><td>44.121864</td><td>63.502224</td><td>51.87491</td><td>153.80492 .. 96.80322</td><td>1991.5244 .. 1054.4741</td><td>3601.0532 .. 1604.4803</td><td>6.1089706 .. 3.2345831</td><td>10.259624 .. 5.2566934</td><td>12.269596 .. 4.784618</td><td>32.543037 .. 9.536812</td><td>67.65076 .. 103.33189</td><td>847.30896 .. 1089.7404</td><td>1536.3633 .. 1655.8397</td><td>2.5991073 .. 3.3427618</td><td>4.4319944 .. 5.3596196</td><td>5.223625 .. 4.93358</td><td>13.297473 .. 9.770956</td><td>-0.13649373 .. 1.0142338</td><td>-0.047429238 .. 1.0963467</td><td>-0.13364962 .. 1.0145497</td><td>-0.06667167 .. 1.0831007</td><td>-0.10913618 .. 1.0438341</td><td>0.44625872</td><td>0.61917055</td></tr>\n",
       "<tr><td>...</td><td>...</td><td>...</td><td>...</td><td>...</td><td>...</td><td>...</td><td>...</td><td>...</td><td>...</td><td>...</td><td>...</td><td>...</td><td>...</td><td>...</td><td>...</td><td>...</td><td>...</td><td>...</td><td>...</td><td>...</td><td>...</td><td>...</td><td>...</td><td>...</td><td>...</td><td>...</td><td>...</td><td>...</td><td>...</td><td>...</td><td>...</td><td>...</td><td>...</td><td>...</td><td>...</td><td>...</td><td>...</td><td>...</td><td>...</td><td>...</td><td>...</td><td>...</td><td>...</td><td>...</td><td>...</td><td>...</td><td>...</td><td>...</td><td>...</td><td>...</td><td>...</td><td>...</td><td>...</td><td>...</td><td>...</td><td>...</td><td>...</td><td>...</td><td>...</td><td>...</td><td>...</td><td>...</td><td>...</td><td>...</td><td>...</td><td>...</td><td>...</td><td>...</td><td>...</td><td>...</td><td>...</td><td>...</td><td>...</td><td>...</td><td>...</td><td>...</td><td>...</td><td>...</td><td>...</td><td>...</td><td>...</td><td>...</td><td>...</td><td>...</td><td>...</td><td>...</td><td>...</td><td>...</td><td>...</td></tr>\n",
       "<tr><td>9888</td><td>6102</td><td>9888-6102</td><td>1-549010</td><td>8295</td><td>CUBE</td><td>HYB10-GAU-MILESHC</td><td>True</td><td>237.57153</td><td>27.267836</td><td>237.57153</td><td>27.267836</td><td>1040</td><td>0</td><td>0</td><td>0.0731071</td><td>231.26772</td><td>200.83012</td><td>0.0731071</td><td>0.0733231</td><td>231.26772</td><td>200.83012</td><td>0.936482</td><td>12.9604</td><td>5.51516</td><td>0.932856</td><td>24.7053</td><td>11.6628</td><td>5.66113</td><td>v2_4_3</td><td>v2_4_3</td><td>v1_6_2</td><td>v5_5_32</td><td>2.2.1</td><td>0</td><td>0</td><td>SNRG</td><td>HYB10</td><td>GAU-MILESHC</td><td>EMOMM</td><td>EFITMDB</td><td>INDXEN</td><td>voronoi</td><td>10.0</td><td>MILESHC</td><td>2018-07-21</td><td>1366</td><td>9.392704</td><td>6.419601 .. 11.669478</td><td>32.403793 .. 35.18393</td><td>0.3266354</td><td>1.771752</td><td>293.0 .. 16.0</td><td>16.415226 .. 7.2276793</td><td>0.073148705</td><td>-41.108383</td><td>37.056553</td><td>-41.015648</td><td>37.115097</td><td>247.12004</td><td>1.059569</td><td>0.07659926</td><td>-445.50674</td><td>645.04614</td><td>-379.27234</td><td>614.9609</td><td>337.18622</td><td>653.7967</td><td>215.58392</td><td>0.8645928 .. 1.0773959</td><td>-11.071512 .. -2.868458</td><td>-34.961006 .. -6.280418</td><td>-0.030754201 .. -0.007967939</td><td>0.43506005 .. 0.3885274</td><td>-0.3057224 .. -0.055554103</td><td>30.921085 .. 3.6216717</td><td>0.73218423 .. 1.1608783</td><td>16.345749 .. 12.497009</td><td>37.034008 .. 25.978544</td><td>0.051563878 .. 0.039053153</td><td>1.0007378 .. 0.48233724</td><td>0.37397394 .. 0.09351405</td><td>13.370819 .. 2.3015432</td><td>-0.0758899 .. 0.91301465</td><td>0.22345535 .. 1.3623505</td><td>-0.05851173 .. 0.93834895</td><td>0.19960754 .. 1.2885755</td><td>0.07009913 .. 1.0673144</td><td>0.013215716</td><td>0.02513846</td></tr>\n",
       "<tr><td>9888</td><td>12705</td><td>9888-12705</td><td>1-375695</td><td>3137</td><td>CUBE</td><td>HYB10-GAU-MILESHC</td><td>True</td><td>236.90138</td><td>26.063766</td><td>236.90138</td><td>26.063766</td><td>1040</td><td>0</td><td>0</td><td>0.0315789</td><td>96.96229</td><td>91.1167</td><td>0.0315789</td><td>0.0317716</td><td>96.96229</td><td>91.1167</td><td>0.729318</td><td>97.5511</td><td>8.37454</td><td>0.667142</td><td>97.2932</td><td>10.8868</td><td>2.6247</td><td>v2_4_3</td><td>v2_4_3</td><td>v1_6_2</td><td>v5_5_32</td><td>2.2.1</td><td>64</td><td>0</td><td>SNRG</td><td>HYB10</td><td>GAU-MILESHC</td><td>EMOMM</td><td>EFITMDB</td><td>INDXEN</td><td>voronoi</td><td>10.0</td><td>MILESHC</td><td>2018-07-22</td><td>2881</td><td>14.607789</td><td>10.699062 .. 12.499741</td><td>71.74443 .. 50.86852</td><td>0.6101733</td><td>2.4291604</td><td>645.0 .. 120.0</td><td>23.970812 .. 9.502557</td><td>0.031637844</td><td>-123.08254</td><td>137.74208</td><td>-123.08254</td><td>137.74208</td><td>104.74108</td><td>1.0181895</td><td>0.031603612</td><td>-151.82574</td><td>168.21445</td><td>-151.82574</td><td>168.21445</td><td>55.756145</td><td>108.562126</td><td>68.36186</td><td>197.89297 .. 107.96824</td><td>4244.26 .. 1898.8956</td><td>7335.036 .. 2988.5476</td><td>6.580248 .. 2.9440243</td><td>12.285707 .. 6.34136</td><td>14.829568 .. 4.8468504</td><td>100.91241 .. 9.534943</td><td>83.29872 .. 112.150566</td><td>1704.4469 .. 1919.2927</td><td>2967.1392 .. 2971.3977</td><td>2.6425533 .. 2.9756477</td><td>5.1316695 .. 6.5986967</td><td>5.9203544 .. 4.867041</td><td>39.66661 .. 9.61126</td><td>-0.2014628 .. 0.98298806</td><td>0.053074975 .. 1.3034012</td><td>-0.19173528 .. 0.9840633</td><td>-0.030436963 .. 1.1742508</td><td>-0.11629025 .. 1.0559276</td><td>0.9514223</td><td>1.284309</td></tr>\n",
       "<tr><td>9888</td><td>9101</td><td>9888-9101</td><td>1-316920</td><td>10486</td><td>CUBE</td><td>HYB10-GAU-MILESHC</td><td>True</td><td>235.39833</td><td>28.049568</td><td>235.39832</td><td>28.049568</td><td>4288</td><td>0</td><td>0</td><td>0.0318915</td><td>97.94477</td><td>91.984184</td><td>0.0318915</td><td>0.0320979</td><td>97.94477</td><td>91.984184</td><td>0.487231</td><td>108.481</td><td>6.93672</td><td>0.399558</td><td>108.177</td><td>8.00792</td><td>1.47935</td><td>v2_4_3</td><td>v2_4_3</td><td>v1_6_2</td><td>v5_5_32</td><td>2.2.1</td><td>0</td><td>0</td><td>SNRG</td><td>HYB10</td><td>GAU-MILESHC</td><td>EMOMM</td><td>EFITMDB</td><td>INDXEN</td><td>voronoi</td><td>10.0</td><td>MILESHC</td><td>2018-07-21</td><td>1951</td><td>11.942104</td><td>9.339708 .. 11.951484</td><td>44.94391 .. 35.5072</td><td>0.31756026</td><td>2.5814984</td><td>280.0 .. 48.0</td><td>18.17178 .. 6.8141146</td><td>0.032055125</td><td>-105.28726</td><td>157.88873</td><td>-105.28726</td><td>157.88873</td><td>85.24624</td><td>0.92349964</td><td>0.031949107</td><td>-111.803856</td><td>181.17087</td><td>-112.090576</td><td>179.70361</td><td>87.19135</td><td>137.04663</td><td>77.20377</td><td>43.238422 .. 37.098377</td><td>361.42917 .. 193.62321</td><td>1087.7312 .. 410.8026</td><td>1.2862248 .. 0.69151145</td><td>2.6339288 .. 2.474943</td><td>6.860245 .. 1.4886626</td><td>480.5068 .. 11.247061</td><td>12.8317585 .. 39.747406</td><td>139.00917 .. 204.53966</td><td>462.02164 .. 441.61597</td><td>0.50003296 .. 0.7357542</td><td>0.9969899 .. 2.6444547</td><td>2.6941762 .. 1.5818938</td><td>74.37227 .. 15.86187</td><td>-0.34803036 .. 0.8593974</td><td>0.08489828 .. 1.4228865</td><td>-0.27593505 .. 0.9199592</td><td>0.05731784 .. 1.2259661</td><td>-0.07385784 .. 1.057697</td><td>0.0872959</td><td>0.1906211</td></tr>\n",
       "<tr><td>9888</td><td>3702</td><td>9888-3702</td><td>1-316773</td><td>5922</td><td>CUBE</td><td>HYB10-GAU-MILESHC</td><td>True</td><td>235.37491</td><td>27.986502</td><td>235.3749</td><td>27.986502</td><td>1040</td><td>0</td><td>0</td><td>0.0319365</td><td>98.08624</td><td>92.10902</td><td>0.0319365</td><td>0.0321418</td><td>98.08624</td><td>92.10902</td><td>0.887076</td><td>47.5738</td><td>4.60141</td><td>0.797723</td><td>44.8519</td><td>10.9976</td><td>6.0</td><td>v2_4_3</td><td>v2_4_3</td><td>v1_6_2</td><td>v5_5_32</td><td>2.2.1</td><td>0</td><td>0</td><td>SNRG</td><td>HYB10</td><td>GAU-MILESHC</td><td>EMOMM</td><td>EFITMDB</td><td>INDXEN</td><td>voronoi</td><td>10.0</td><td>MILESHC</td><td>2018-07-22</td><td>812</td><td>7.1722746</td><td>16.554148 .. 26.96162</td><td>73.06238 .. 82.40214</td><td>1.1207249</td><td>2.0060418</td><td>236.0 .. 181.0</td><td>35.567715 .. 10.960046</td><td>0.032078695</td><td>-24.90482</td><td>95.191765</td><td>-24.90482</td><td>95.191765</td><td>246.53271</td><td>1.3110719</td><td>0.034427784</td><td>-327.9528</td><td>710.2111</td><td>-326.22772</td><td>705.64557</td><td>537.0759</td><td>904.6125</td><td>433.37686</td><td>28.570456 .. 16.856913</td><td>136.31891 .. 83.45954</td><td>182.27469 .. 75.060715</td><td>0.5776225 .. 0.35364214</td><td>1.8324711 .. 6.717722</td><td>1.1619556 .. 0.16627847</td><td>7.2238917 .. 1.8593944</td><td>10.980043 .. 32.20226</td><td>84.11055 .. 88.40505</td><td>130.81648 .. 104.13202</td><td>0.43807578 .. 0.42915073</td><td>2.6797037 .. 6.6908383</td><td>0.8086729 .. 0.20350496</td><td>5.679044 .. 1.8519534</td><td>0.0142032225 .. 1.0123341</td><td>0.12731555 .. 1.1041912</td><td>0.014692602 .. 1.0181077</td><td>0.12709075 .. 1.0939214</td><td>0.07815203 .. 1.0574899</td><td>0.004398772</td><td>0.007896246</td></tr>\n",
       "<tr><td>9888</td><td>6104</td><td>9888-6104</td><td>1-317388</td><td>9753</td><td>CUBE</td><td>HYB10-GAU-MILESHC</td><td>True</td><td>238.29976</td><td>27.55575</td><td>238.29976</td><td>27.55575</td><td>1024</td><td>0</td><td>0</td><td>0.147435</td><td>489.89624</td><td>372.08994</td><td>0.147435</td><td>0.147662</td><td>489.89624</td><td>372.08994</td><td>0.764055</td><td>104.745</td><td>5.42923</td><td>0.659503</td><td>99.9808</td><td>14.3621</td><td>6.0</td><td>v2_4_3</td><td>v2_4_3</td><td>v1_6_2</td><td>v5_5_32</td><td>2.2.1</td><td>64</td><td>0</td><td>SNRG</td><td>HYB10</td><td>GAU-MILESHC</td><td>EMOMM</td><td>EFITMDB</td><td>INDXEN</td><td>voronoi</td><td>10.0</td><td>MILESHC</td><td>2018-07-22</td><td>1388</td><td>8.864503</td><td>2.4798052 .. 6.13357</td><td>10.715154 .. 16.28836</td><td>0.11332724</td><td>1.4299209</td><td>72.0 .. 0.0</td><td>13.863035 .. 0.0</td><td>0.14752182</td><td>-13.005717</td><td>55.175816</td><td>-11.437873</td><td>48.557373</td><td>273.2744</td><td>1.0462786</td><td>0.14756678</td><td>-300.5017</td><td>433.52295</td><td>-279.1487</td><td>405.56247</td><td>259.11118</td><td>587.7756</td><td>292.28162</td><td>6.075698 .. -1.8186306</td><td>9.570491 .. -10.174406</td><td>25.152739 .. -23.775982</td><td>0.042725407 .. -0.045421455</td><td>0.5183813 .. 0.27304718</td><td>0.439029 .. -0.18240026</td><td>75.91078 .. 6.8191156</td><td>3.0448103 .. 0.50161225</td><td>8.445462 .. 5.782756</td><td>20.449076 .. 25.86443</td><td>0.037702955 .. 0.026405279</td><td>0.2586277 .. 0.31515336</td><td>0.37791377 .. 0.11967987</td><td>20.152706 .. 7.8759484</td><td>-0.14012553 .. 0.17956239</td><td>0.4568491 .. 1.7896571</td><td>-0.12242737 .. 0.4045707</td><td>0.42120025 .. 1.2826618</td><td>0.10650706 .. 0.9976778</td><td>0.06592049</td><td>0.10365309</td></tr>\n",
       "<tr><td>9888</td><td>6103</td><td>9888-6103</td><td>1-549008</td><td>8981</td><td>CUBE</td><td>HYB10-GAU-MILESHC</td><td>True</td><td>237.0461</td><td>26.928373</td><td>237.0461</td><td>26.928373</td><td>2208</td><td>0</td><td>0</td><td>0.0902347</td><td>288.83432</td><td>243.00142</td><td>0.0902347</td><td>0.090441</td><td>288.83432</td><td>243.00142</td><td>0.857548</td><td>26.2632</td><td>3.77083</td><td>0.772481</td><td>29.3577</td><td>7.7303</td><td>5.99384</td><td>v2_4_3</td><td>v2_4_3</td><td>v1_6_2</td><td>v5_5_32</td><td>2.2.1</td><td>64</td><td>0</td><td>SNRG</td><td>HYB10</td><td>GAU-MILESHC</td><td>EMOMM</td><td>EFITMDB</td><td>INDXEN</td><td>voronoi</td><td>10.0</td><td>MILESHC</td><td>2018-07-22</td><td>1335</td><td>8.877602</td><td>5.570093 .. 9.994481</td><td>19.87814 .. 22.293745</td><td>0.26640496</td><td>2.1982706</td><td>107.0 .. 15.0</td><td>18.794598 .. 4.503356</td><td>0.09025052</td><td>-42.860157</td><td>31.858631</td><td>-42.860157</td><td>31.858631</td><td>197.29602</td><td>1.1549875</td><td>0.09023745</td><td>-283.44272</td><td>427.54724</td><td>-277.97665</td><td>416.0312</td><td>201.22615</td><td>772.12164</td><td>255.60025</td><td>29.449333 .. 12.38388</td><td>68.71368 .. 22.280054</td><td>65.55251 .. 10.417284</td><td>0.45505747 .. 0.14755003</td><td>1.9196286 .. 0.9048286</td><td>2.2556834 .. 0.14952008</td><td>90.19513 .. 8.194824</td><td>14.522424 .. 9.535805</td><td>40.43623 .. 19.774502</td><td>70.6688 .. 79.232155</td><td>0.27321777 .. 0.13271478</td><td>0.98380286 .. 18.773815</td><td>1.5802865 .. 0.18745448</td><td>27.840445 .. 566.2335</td><td>-0.35286853 .. 0.6514884</td><td>0.41283104 .. 2.1939313</td><td>-0.27024692 .. 0.66024065</td><td>0.32044572 .. 1.456703</td><td>0.056094848 .. 1.0679768</td><td>0.031861134</td><td>0.050484292</td></tr>\n",
       "<tr><td>9888</td><td>9102</td><td>9888-9102</td><td>46-184</td><td>10956</td><td>CUBE</td><td>HYB10-GAU-MILESHC</td><td>False</td><td>238.37357</td><td>27.38989</td><td>238.37357</td><td>27.38989</td><td>0</td><td>0</td><td>131072</td><td>0.0</td><td>0.0</td><td>0.0</td><td>-9999.0</td><td>-9999.0</td><td>-999.0</td><td>-999.0</td><td>-9999.0</td><td>-9999.0</td><td>-9999.0</td><td>-9999.0</td><td>-9999.0</td><td>-9999.0</td><td>-9999.0</td><td>v2_4_3</td><td>v2_4_3</td><td>v1_6_2</td><td>v5_5_32</td><td></td><td>64</td><td>0</td><td></td><td></td><td></td><td></td><td></td><td></td><td></td><td>0.0</td><td></td><td></td><td>0</td><td>0.0</td><td>0.0 .. 0.0</td><td>0.0 .. 0.0</td><td>0.0</td><td>0.0</td><td>0.0 .. 0.0</td><td>0.0 .. 0.0</td><td>0.0</td><td>0.0</td><td>0.0</td><td>0.0</td><td>0.0</td><td>0.0</td><td>0.0</td><td>0.0</td><td>0.0</td><td>0.0</td><td>0.0</td><td>0.0</td><td>0.0</td><td>0.0</td><td>0.0</td><td>0.0 .. 0.0</td><td>0.0 .. 0.0</td><td>0.0 .. 0.0</td><td>0.0 .. 0.0</td><td>0.0 .. 0.0</td><td>0.0 .. 0.0</td><td>0.0 .. 0.0</td><td>0.0 .. 0.0</td><td>0.0 .. 0.0</td><td>0.0 .. 0.0</td><td>0.0 .. 0.0</td><td>0.0 .. 0.0</td><td>0.0 .. 0.0</td><td>0.0 .. 0.0</td><td>0.0 .. 0.0</td><td>0.0 .. 0.0</td><td>0.0 .. 0.0</td><td>0.0 .. 0.0</td><td>0.0 .. 0.0</td><td>0.0</td><td>0.0</td></tr>\n",
       "<tr><td>9888</td><td>12701</td><td>9888-12701</td><td>1-593975</td><td>74</td><td>CUBE</td><td>HYB10-GAU-MILESHC</td><td>True</td><td>235.47583</td><td>28.13398</td><td>235.47581</td><td>28.13398</td><td>4096</td><td>0</td><td>0</td><td>0.0332197</td><td>102.12408</td><td>95.662735</td><td>0.0332197</td><td>0.033428</td><td>102.12408</td><td>95.662735</td><td>0.614652</td><td>67.138</td><td>13.2096</td><td>0.520471</td><td>64.649</td><td>17.1446</td><td>2.82831</td><td>v2_4_3</td><td>v2_4_3</td><td>v1_6_2</td><td>v5_5_32</td><td>2.2.1</td><td>0</td><td>1</td><td>SNRG</td><td>HYB10</td><td>GAU-MILESHC</td><td>EMOMM</td><td>EFITMDB</td><td>INDXEN</td><td>voronoi</td><td>10.0</td><td>MILESHC</td><td>2018-07-22</td><td>2822</td><td>14.822016</td><td>6.7879863 .. 10.901934</td><td>52.272095 .. 52.277058</td><td>0.24941848</td><td>1.6184319</td><td>1030.0 .. 3.0</td><td>15.518489 .. 10.156163</td><td>-999.0</td><td>-225.49185</td><td>136.48526</td><td>-225.49185</td><td>136.48526</td><td>129.87213</td><td>0.94672126</td><td>-999.0</td><td>-252.1666</td><td>167.72699</td><td>-252.1666</td><td>167.72699</td><td>159.16754</td><td>223.1931</td><td>92.960495</td><td>-999.0 .. -999.0</td><td>892.79407 .. 290.7401</td><td>1119.0842 .. 433.56354</td><td>0.71941507 .. 0.2342789</td><td>13.1666565 .. 3.604065</td><td>4.2355437 .. 0.49332607</td><td>42.76837 .. 3.4881027</td><td>-999.0 .. -999.0</td><td>475.30737 .. 303.11133</td><td>617.2891 .. 450.27206</td><td>0.38300353 .. 0.24424765</td><td>6.327539 .. 3.6787968</td><td>2.1894124 .. 0.5166413</td><td>20.186607 .. 5.662194</td><td>-0.1352611 .. 1.00698</td><td>0.118644334 .. 1.1190914</td><td>-0.09607798 .. 1.0150934</td><td>0.11077512 .. 1.1104318</td><td>0.047902923 .. 1.0641817</td><td>0.05367946</td><td>0.09264173</td></tr>\n",
       "<tr><td>9888</td><td>3701</td><td>9888-3701</td><td>1-593989</td><td>4806</td><td>CUBE</td><td>HYB10-GAU-MILESHC</td><td>True</td><td>236.00803</td><td>27.699312</td><td>236.00803</td><td>27.69931</td><td>1168</td><td>0</td><td>0</td><td>0.0321923</td><td>98.89058</td><td>92.81831</td><td>0.0321923</td><td>0.0323995</td><td>98.89058</td><td>92.81831</td><td>0.637893</td><td>154.422</td><td>3.84746</td><td>0.560157</td><td>156.908</td><td>4.7138</td><td>3.67454</td><td>v2_4_3</td><td>v2_4_3</td><td>v1_6_2</td><td>v5_5_32</td><td>2.2.1</td><td>0</td><td>0</td><td>SNRG</td><td>HYB10</td><td>GAU-MILESHC</td><td>EMOMM</td><td>EFITMDB</td><td>INDXEN</td><td>voronoi</td><td>10.0</td><td>MILESHC</td><td>2018-07-22</td><td>810</td><td>7.44277</td><td>21.444304 .. 29.125402</td><td>76.249344 .. 71.592606</td><td>1.1546422</td><td>2.860766</td><td>121.0 .. 289.0</td><td>43.10029 .. 14.675623</td><td>0.032222945</td><td>-150.29895</td><td>168.26303</td><td>-150.29895</td><td>168.26303</td><td>128.1683</td><td>1.5251443</td><td>0.03221478</td><td>-146.72464</td><td>185.49918</td><td>-146.72464</td><td>185.49918</td><td>99.09876</td><td>132.45514</td><td>69.059326</td><td>131.27797 .. 71.345436</td><td>486.82327 .. 226.75314</td><td>1555.1368 .. 585.49304</td><td>4.0233326 .. 1.8739929</td><td>7.25728 .. 4.271962</td><td>6.4187574 .. 1.2897525</td><td>95.9088 .. 5.100179</td><td>57.87451 .. 77.007</td><td>203.77293 .. 242.83563</td><td>680.67554 .. 606.9259</td><td>1.6840738 .. 2.006906</td><td>3.577258 .. 4.6397223</td><td>2.6562736 .. 1.3628812</td><td>35.255627 .. 5.6614385</td><td>-0.24302778 .. 0.9668083</td><td>-0.0099933455 .. 1.15338</td><td>-0.15275781 .. 0.98807806</td><td>-0.013079574 .. 1.1123374</td><td>-0.04115153 .. 1.0595999</td><td>0.0758189</td><td>0.21605448</td></tr>\n",
       "<tr><td>9888</td><td>1902</td><td>9888-1902</td><td>1-317315</td><td>4539</td><td>CUBE</td><td>HYB10-GAU-MILESHC</td><td>True</td><td>238.02835</td><td>27.558743</td><td>238.02835</td><td>27.558743</td><td>2592</td><td>0</td><td>0</td><td>0.0724727</td><td>229.15948</td><td>199.23486</td><td>0.0724727</td><td>0.072697</td><td>229.15948</td><td>199.23486</td><td>0.911924</td><td>144.178</td><td>3.96439</td><td>0.911198</td><td>151.748</td><td>8.11069</td><td>6.0</td><td>v2_4_3</td><td>v2_4_3</td><td>v1_6_2</td><td>v5_5_32</td><td>2.2.1</td><td>0</td><td>0</td><td>SNRG</td><td>HYB10</td><td>GAU-MILESHC</td><td>EMOMM</td><td>EFITMDB</td><td>INDXEN</td><td>voronoi</td><td>10.0</td><td>MILESHC</td><td>2018-07-22</td><td>416</td><td>4.7705765</td><td>5.7016344 .. 9.813874</td><td>20.525541 .. 21.511133</td><td>0.26790985</td><td>1.4715014</td><td>146.0 .. 0.0</td><td>16.451403 .. 0.0</td><td>0.07251413</td><td>-36.04322</td><td>69.712685</td><td>-36.092426</td><td>66.0487</td><td>180.49672</td><td>1.0698023</td><td>0.07249038</td><td>-127.04419</td><td>149.0577</td><td>-127.04419</td><td>149.0577</td><td>147.49489</td><td>190.02905</td><td>134.32477</td><td>65.74049 .. 20.283201</td><td>215.28944 .. 52.440228</td><td>267.7934 .. 62.032787</td><td>1.1040484 .. 0.26892424</td><td>3.8304489 .. 1.2365365</td><td>6.4780374 .. 0.48988527</td><td>17.880514 .. 1.994381</td><td>31.91398 .. 21.756796</td><td>104.67507 .. 63.4916</td><td>125.60279 .. 80.102394</td><td>0.53679526 .. 0.32559794</td><td>1.7543097 .. 1.2798511</td><td>2.9905324 .. 0.6494522</td><td>5.5310845 .. 2.1510224</td><td>-0.039333824 .. 0.9166103</td><td>0.11184807 .. 1.2374324</td><td>-0.0386396 .. 0.9166004</td><td>0.10978229 .. 1.210415</td><td>0.042360254 .. 1.0437236</td><td>0.052553985</td><td>0.06847518</td></tr>\n",
       "</table>"
      ],
      "text/plain": [
       "<Table length=9462>\n",
       "PLATE IFUDESIGN  PLATEIFU  ...   SFR_1RE       SFR_TOT   \n",
       "int64   int64     str12    ...   float32       float32   \n",
       "----- --------- ---------- ... ------------ -------------\n",
       " 7443      3702  7443-3702 ...  0.008840282   0.011661153\n",
       " 7443      1901  7443-1901 ...   0.03705121     0.0440793\n",
       " 7443      1902  7443-1902 ... 0.0002788841 0.00041869978\n",
       " 7443      3704  7443-3704 ...  0.018245364   0.025254043\n",
       " 7443      3701  7443-3701 ...   0.01941058   0.027855627\n",
       " 7443     12702 7443-12702 ...     0.159851    0.21794325\n",
       " 7443      6104  7443-6104 ...   0.07346086    0.08496821\n",
       " 7443     12705 7443-12705 ...   0.19318901    0.23754339\n",
       " 7443      6103  7443-6103 ...  0.076932885     0.1306153\n",
       " 7443      6102  7443-6102 ...   0.44625872    0.61917055\n",
       "  ...       ...        ... ...          ...           ...\n",
       " 9888      6102  9888-6102 ...  0.013215716    0.02513846\n",
       " 9888     12705 9888-12705 ...    0.9514223      1.284309\n",
       " 9888      9101  9888-9101 ...    0.0872959     0.1906211\n",
       " 9888      3702  9888-3702 ...  0.004398772   0.007896246\n",
       " 9888      6104  9888-6104 ...   0.06592049    0.10365309\n",
       " 9888      6103  9888-6103 ...  0.031861134   0.050484292\n",
       " 9888      9102  9888-9102 ...          0.0           0.0\n",
       " 9888     12701 9888-12701 ...   0.05367946    0.09264173\n",
       " 9888      3701  9888-3701 ...    0.0758189    0.21605448\n",
       " 9888      1902  9888-1902 ...  0.052553985    0.06847518"
      ]
     },
     "execution_count": 3,
     "metadata": {},
     "output_type": "execute_result"
    }
   ],
   "source": [
    "from astropy.table import Table\n",
    "\n",
    "dapall_table = Table(dapall[1].data)\n",
    "dapall_table"
   ]
  },
  {
   "cell_type": "code",
   "execution_count": null,
   "metadata": {},
   "outputs": [],
   "source": [
    "#making a list of H-alpha flux for histograms\n",
    "dapall_Ha = np.array(dapall_table['EMLINE_GFLUX_1RE'])\n",
    "Ha_F = []\n",
    "Ha_F1= []\n",
    "\n",
    "for EMLINE_GFLUX_1RE in dapall_Ha: \n",
    "    Ha_F.append(EMLINE_GFLUX_1RE[18])\n",
    "    Ha_F1.append(EMLINE_GFLUX_1RE[18])\n",
    "\n",
    "#dealing with infinities\n",
    "pinf = float('+inf')\n",
    "ninf = float('-inf')\n",
    "\n",
    "#changing from list to array\n",
    "Ha_F = np.array(Ha_F)\n",
    "Ha_F1 = np.array(Ha_F1)\n",
    "#putting in log form\n",
    "Ha_F = np.log10(Ha_F)\n",
    "#pull out nan values\n",
    "Ha_F[Ha_F == pinf] = 0.0\n",
    "Ha_F[Ha_F == ninf] = 0.0\n",
    "Ha_F = Ha_F[~np.isnan(Ha_F)]\n",
    "#making a list version\n",
    "Ha_F_l = Ha_F.tolist()"
   ]
  },
  {
   "cell_type": "code",
   "execution_count": null,
   "metadata": {},
   "outputs": [],
   "source": [
    "len(Ha_F)"
   ]
  },
  {
   "cell_type": "code",
   "execution_count": null,
   "metadata": {},
   "outputs": [],
   "source": [
    "#H-aplha histogram\n",
    "num_bins = 13\n",
    "x = Ha_F\n",
    "fig, ax = plt.subplots()\n",
    "\n",
    "# the histogram of the data\n",
    "n, bins, patches = ax.hist(x, num_bins, density=1)\n",
    "\n",
    "#plt.xlim(xmax = 1.0)\n",
    "\n",
    "ax.set_xlabel('Ha Flux')\n",
    "ax.set_ylabel('Relative Number')\n",
    "ax.set_title('Ha Flux - DAP')\n",
    "\n",
    "# Tweak spacing to prevent clipping of ylabel\n",
    "fig.tight_layout()\n",
    "plt.show()"
   ]
  },
  {
   "cell_type": "code",
   "execution_count": null,
   "metadata": {},
   "outputs": [],
   "source": [
    "#filtering through galaxies with sufficient H-alpha\n",
    "Ha_filt = dapall_table[Ha_F1 > 100]\n",
    "print(len(Ha_F))\n",
    "print(len(Ha_filt))\n",
    "#filtering through galaxies with high z values\n",
    "z_Ha_filt = Ha_filt[Ha_filt['Z'] < .08]\n",
    "z_Ha_filt"
   ]
  },
  {
   "cell_type": "code",
   "execution_count": null,
   "metadata": {},
   "outputs": [],
   "source": [
    "#z_Ha_filt.write('z_Ha_filt.fits')\n"
   ]
  },
  {
   "cell_type": "code",
   "execution_count": null,
   "metadata": {},
   "outputs": [],
   "source": [
    "#developing list of plate ifu numbers\n",
    "ifu_list = z_Ha_filt['PLATEIFU']\n",
    "ifu_list = np.array(ifu_list)\n",
    "ifu_list = ifu_list.tolist()\n",
    "ifu_list"
   ]
  },
  {
   "cell_type": "code",
   "execution_count": null,
   "metadata": {},
   "outputs": [],
   "source": [
    "import matplotlib.pyplot as plt\n",
    "from marvin.tools.maps import Maps\n",
    "import marvin.utils.plot.map as mapplot\n",
    "from marvin.tools.image import Image\n",
    "plt.style.use('seaborn-darkgrid')  # set matplotlib style sheet"
   ]
  },
  {
   "cell_type": "code",
   "execution_count": null,
   "metadata": {},
   "outputs": [],
   "source": [
    "#imagetest = Image(plateifu='8549-12703')\n",
    "#imagetest.plot()\n",
    "#mapstest = Maps(plateifu ='8549-12703')\n",
    "#ha = mapstest.emline_gflux_ha_6564\n",
    "#fig, ax = ha.plot()\n",
    "\n",
    "#maps = Maps(plateifu = ifu_list)"
   ]
  },
  {
   "cell_type": "code",
   "execution_count": null,
   "metadata": {},
   "outputs": [],
   "source": [
    "#t = Table.read('z_Ha_filt.fits')\n",
    "#for i in range(5):\n",
    "#    print(i)\n",
    "#    name=t[\"PLATEIFU\"][i]\n",
    "#    maps = Maps(plateifu=name)\n",
    "#    ha = maps['emline_gflux_ha_6564']\n",
    "#    ha.plot()\n",
    "#    plt.savefig(name+'.png')\n",
    "#    plt.show()"
   ]
  },
  {
   "cell_type": "code",
   "execution_count": null,
   "metadata": {},
   "outputs": [],
   "source": []
  }
 ],
 "metadata": {
  "kernelspec": {
   "display_name": "python-3.6.8",
   "language": "python",
   "name": "python-3.6.8"
  },
  "language_info": {
   "codemirror_mode": {
    "name": "ipython",
    "version": 3
   },
   "file_extension": ".py",
   "mimetype": "text/x-python",
   "name": "python",
   "nbconvert_exporter": "python",
   "pygments_lexer": "ipython3",
   "version": "3.6.8"
  }
 },
 "nbformat": 4,
 "nbformat_minor": 2
}
