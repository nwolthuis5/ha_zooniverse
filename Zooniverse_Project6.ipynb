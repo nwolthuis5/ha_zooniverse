{
 "cells": [
  {
   "cell_type": "code",
   "execution_count": 2,
   "metadata": {},
   "outputs": [
    {
     "name": "stdout",
     "output_type": "stream",
     "text": [
      "Hα Maps \n",
      "9675056\n",
      "9675049\n",
      "9675041\n",
      "9675035\n",
      "9675029\n",
      "9675021\n",
      "9675015\n",
      "9675009\n",
      "9675003\n",
      "9674996\n",
      "9674991\n",
      "9674987\n",
      "9674980\n",
      "9674972\n",
      "9674966\n",
      "9674959\n",
      "9674950\n",
      "9674943\n",
      "9674937\n",
      "9674931\n",
      "9674925\n",
      "9674919\n",
      "9674913\n"
     ]
    }
   ],
   "source": [
    "from panoptes_client import Panoptes, Project, SubjectSet, Subject\n",
    "Panoptes.connect(username='nwolthuis', password='aK31qZ9B')\n",
    "project = Project.find(10489) \n",
    "print(project.title)\n",
    "subject_set = SubjectSet.find(10489) \n",
    "for subject in subject_set.subjects:\n",
    "    print(subject.id)\n"
   ]
  },
  {
   "cell_type": "code",
   "execution_count": 7,
   "metadata": {},
   "outputs": [
    {
     "ename": "KeyError",
     "evalue": "'links'",
     "output_type": "error",
     "traceback": [
      "\u001b[0;31m---------------------------------------------------------------------------\u001b[0m",
      "\u001b[0;31mKeyError\u001b[0m                                  Traceback (most recent call last)",
      "\u001b[0;32m<ipython-input-7-23daf6afc6a7>\u001b[0m in \u001b[0;36m<module>\u001b[0;34m\u001b[0m\n\u001b[1;32m      1\u001b[0m \u001b[0mha_project\u001b[0m\u001b[0;34m.\u001b[0m\u001b[0mreload\u001b[0m\u001b[0;34m(\u001b[0m\u001b[0;34m)\u001b[0m\u001b[0;34m\u001b[0m\u001b[0;34m\u001b[0m\u001b[0m\n\u001b[0;32m----> 2\u001b[0;31m \u001b[0mprint\u001b[0m\u001b[0;34m(\u001b[0m\u001b[0mha_project\u001b[0m\u001b[0;34m.\u001b[0m\u001b[0mlinks\u001b[0m\u001b[0;34m.\u001b[0m\u001b[0msubject_sets\u001b[0m\u001b[0;34m)\u001b[0m\u001b[0;34m\u001b[0m\u001b[0;34m\u001b[0m\u001b[0m\n\u001b[0m",
      "\u001b[0;32m/packages/python3.6.8/lib/python3.6/site-packages/panoptes_client/panoptes.py\u001b[0m in \u001b[0;36m__getattr__\u001b[0;34m(self, name)\u001b[0m\n\u001b[1;32m    909\u001b[0m             \u001b[0mself\u001b[0m\u001b[0;34m.\u001b[0m\u001b[0mparent\u001b[0m\u001b[0;34m.\u001b[0m\u001b[0mreload\u001b[0m\u001b[0;34m(\u001b[0m\u001b[0;34m)\u001b[0m\u001b[0;34m\u001b[0m\u001b[0;34m\u001b[0m\u001b[0m\n\u001b[1;32m    910\u001b[0m \u001b[0;34m\u001b[0m\u001b[0m\n\u001b[0;32m--> 911\u001b[0;31m         \u001b[0mlinked_object\u001b[0m \u001b[0;34m=\u001b[0m \u001b[0mself\u001b[0m\u001b[0;34m.\u001b[0m\u001b[0mparent\u001b[0m\u001b[0;34m.\u001b[0m\u001b[0mraw\u001b[0m\u001b[0;34m[\u001b[0m\u001b[0;34m'links'\u001b[0m\u001b[0;34m]\u001b[0m\u001b[0;34m[\u001b[0m\u001b[0mname\u001b[0m\u001b[0;34m]\u001b[0m\u001b[0;34m\u001b[0m\u001b[0;34m\u001b[0m\u001b[0m\n\u001b[0m\u001b[1;32m    912\u001b[0m         \u001b[0mobject_class\u001b[0m \u001b[0;34m=\u001b[0m \u001b[0mLinkResolver\u001b[0m\u001b[0;34m.\u001b[0m\u001b[0mtypes\u001b[0m\u001b[0;34m.\u001b[0m\u001b[0mget\u001b[0m\u001b[0;34m(\u001b[0m\u001b[0mname\u001b[0m\u001b[0;34m)\u001b[0m\u001b[0;34m\u001b[0m\u001b[0;34m\u001b[0m\u001b[0m\n\u001b[1;32m    913\u001b[0m         if (\n",
      "\u001b[0;31mKeyError\u001b[0m: 'links'"
     ]
    }
   ],
   "source": [
    "ha_project.reload()\n",
    "print(ha_project.links.subject_sets)"
   ]
  },
  {
   "cell_type": "code",
   "execution_count": 8,
   "metadata": {},
   "outputs": [
    {
     "data": {
      "text/plain": [
       "{'projects': [{'id': '12801',\n",
       "   'display_name': 'Tutorial Project',\n",
       "   'classifications_count': 0,\n",
       "   'subjects_count': 0,\n",
       "   'created_at': '2020-07-15T17:32:15.908Z',\n",
       "   'updated_at': '2020-07-15T17:32:15.908Z',\n",
       "   'available_languages': ['en'],\n",
       "   'title': 'Tutorial Project',\n",
       "   'description': 'My first project created in Python',\n",
       "   'introduction': None,\n",
       "   'private': True,\n",
       "   'retired_subjects_count': 0,\n",
       "   'configuration': {},\n",
       "   'live': False,\n",
       "   'urls': [],\n",
       "   'migrated': False,\n",
       "   'classifiers_count': 0,\n",
       "   'slug': 'nwolthuis/tutorial-project',\n",
       "   'redirect': '',\n",
       "   'beta_requested': False,\n",
       "   'beta_approved': False,\n",
       "   'launch_requested': False,\n",
       "   'launch_approved': False,\n",
       "   'launch_date': None,\n",
       "   'href': '/projects/12801',\n",
       "   'workflow_description': None,\n",
       "   'primary_language': 'en',\n",
       "   'tags': [],\n",
       "   'experimental_tools': [],\n",
       "   'completeness': 0.0,\n",
       "   'activity': 0,\n",
       "   'state': 'development',\n",
       "   'researcher_quote': None,\n",
       "   'mobile_friendly': False,\n",
       "   'featured': False,\n",
       "   'links': {'workflows': [],\n",
       "    'active_workflows': [],\n",
       "    'subject_sets': [],\n",
       "    'owner': {'id': '1873339',\n",
       "     'display_name': 'nwolthuis',\n",
       "     'type': 'users',\n",
       "     'href': '/users/1873339'},\n",
       "    'project_roles': ['289061'],\n",
       "    'pages': [],\n",
       "    'organization': None,\n",
       "    'avatar': {'href': '/projects/12801/avatar', 'type': 'avatars'},\n",
       "    'background': {'href': '/projects/12801/background',\n",
       "     'type': 'backgrounds'},\n",
       "    'attached_images': {'href': '/projects/12801/attached_images',\n",
       "     'type': 'attached_images',\n",
       "     'ids': []},\n",
       "    'classifications_export': {'href': '/projects/12801/classifications_export',\n",
       "     'type': 'classifications_exports'},\n",
       "    'subjects_export': {'href': '/projects/12801/subjects_export',\n",
       "     'type': 'subjects_exports'}}}],\n",
       " 'linked': {'owners': [{'id': '1873339',\n",
       "    'login': 'nwolthuis',\n",
       "    'display_name': 'nwolthuis',\n",
       "    'credited_name': 'Nathan Wolthuis',\n",
       "    'created_at': '2019-02-27T02:23:58.938Z',\n",
       "    'updated_at': '2020-07-15T01:05:27.230Z',\n",
       "    'type': 'users',\n",
       "    'href': '/users/1873339',\n",
       "    'private_profile': True,\n",
       "    'avatar_src': None,\n",
       "    'links': {}}]},\n",
       " 'links': {'projects.workflows': {'href': '/workflows?project_id={projects.id}',\n",
       "   'type': 'workflows'},\n",
       "  'projects.active_workflows': {'href': '/workflows?project_id={projects.id}',\n",
       "   'type': 'active_workflows'},\n",
       "  'projects.subject_sets': {'href': '/subject_sets?project_id={projects.id}',\n",
       "   'type': 'subject_sets'},\n",
       "  'projects.project_roles': {'href': '/project_roles?project_id={projects.id}',\n",
       "   'type': 'project_roles'},\n",
       "  'projects.pages': {'href': '/projects/{projects.id}/pages',\n",
       "   'type': 'project_pages'},\n",
       "  'projects.organization': {'href': '/organizations/{projects.organization}',\n",
       "   'type': 'organizations'},\n",
       "  'projects.attached_images': {'href': '/projects/{projects.id}/attached_images',\n",
       "   'type': 'media'},\n",
       "  'projects.owner': {'href': '/{projects.owner.href}', 'type': 'owners'},\n",
       "  'projects.avatar': {'href': '/projects/{projects.id}/avatar',\n",
       "   'type': 'media'},\n",
       "  'projects.background': {'href': '/projects/{projects.id}/background',\n",
       "   'type': 'media'},\n",
       "  'projects.classifications_export': {'href': '/projects/{projects.id}/classifications_export',\n",
       "   'type': 'media'},\n",
       "  'projects.subjects_export': {'href': '/projects/{projects.id}/subjects_export',\n",
       "   'type': 'media'},\n",
       "  'user_groups.memberships': {'href': '/memberships?user_group_id={user_groups.id}',\n",
       "   'type': 'memberships'},\n",
       "  'user_groups.users': {'href': '/users?user_group_id={user_groups.id}',\n",
       "   'type': 'users'},\n",
       "  'user_groups.projects': {'href': '/projects?owner={user_groups.name}',\n",
       "   'type': 'projects'},\n",
       "  'user_groups.collections': {'href': '/collections?owner={user_groups.name}',\n",
       "   'type': 'collections'},\n",
       "  'user_groups.recents': {'href': '/user_groups/{user_groups.id}/recents',\n",
       "   'type': 'recents'}},\n",
       " 'meta': {'projects': {'page': 1,\n",
       "   'page_size': 20,\n",
       "   'count': 1,\n",
       "   'include': ['owners'],\n",
       "   'page_count': 1,\n",
       "   'previous_page': None,\n",
       "   'next_page': None,\n",
       "   'first_href': '/projects?include=owners',\n",
       "   'previous_href': None,\n",
       "   'next_href': None,\n",
       "   'last_href': '/projects?include=owners'}}}"
      ]
     },
     "execution_count": 8,
     "metadata": {},
     "output_type": "execute_result"
    }
   ],
   "source": [
    "tutorial_project = Project()\n",
    "\n",
    "tutorial_project.display_name = 'Tutorial Project'\n",
    "tutorial_project.description = 'My first project created in Python'\n",
    "tutorial_project.primary_language = 'en'\n",
    "tutorial_project.private = True\n",
    "\n",
    "tutorial_project.save()"
   ]
  },
  {
   "cell_type": "code",
   "execution_count": 9,
   "metadata": {},
   "outputs": [
    {
     "data": {
      "text/plain": [
       "{'subject_sets': [{'id': '85935',\n",
       "   'display_name': 'Tutorial subject set',\n",
       "   'set_member_subjects_count': 0,\n",
       "   'metadata': {},\n",
       "   'created_at': '2020-07-15T17:32:28.993Z',\n",
       "   'updated_at': '2020-07-15T17:32:28.993Z',\n",
       "   'href': '/subject_sets/85935',\n",
       "   'links': {'project': '12801', 'workflows': [], 'subjects': []}}],\n",
       " 'links': {'subject_sets.project': {'href': '/projects/{subject_sets.project}',\n",
       "   'type': 'projects'},\n",
       "  'subject_sets.workflows': {'href': '/workflows?subject_set_id={subject_sets.id}',\n",
       "   'type': 'workflows'}},\n",
       " 'meta': {'subject_sets': {'page': 1,\n",
       "   'page_size': 20,\n",
       "   'count': 1,\n",
       "   'include': [],\n",
       "   'page_count': 1,\n",
       "   'previous_page': None,\n",
       "   'next_page': None,\n",
       "   'first_href': '/subject_sets',\n",
       "   'previous_href': None,\n",
       "   'next_href': None,\n",
       "   'last_href': '/subject_sets'}}}"
      ]
     },
     "execution_count": 9,
     "metadata": {},
     "output_type": "execute_result"
    }
   ],
   "source": [
    "subject_set = SubjectSet()\n",
    "\n",
    "subject_set.links.project = tutorial_project\n",
    "subject_set.display_name = 'Tutorial subject set'\n",
    "\n",
    "subject_set.save()"
   ]
  },
  {
   "cell_type": "code",
   "execution_count": 10,
   "metadata": {},
   "outputs": [
    {
     "name": "stdout",
     "output_type": "stream",
     "text": [
      "[<SubjectSet 85935>]\n"
     ]
    }
   ],
   "source": [
    "tutorial_project.reload()\n",
    "print(tutorial_project.links.subject_sets)"
   ]
  },
  {
   "cell_type": "code",
   "execution_count": 29,
   "metadata": {},
   "outputs": [],
   "source": [
    "new_subjects = []\n",
    "\n",
    "for filename, metadata in subject_metadata.items():\n",
    "    subject = Subject()\n",
    "\n",
    "    subject.links.project = tutorial_project\n",
    "    subject.add_location(filename)\n",
    "\n",
    "    subject.metadata.update(metadata)\n",
    "\n",
    "    subject.save()\n",
    "    new_subjects.append(subject)"
   ]
  },
  {
   "cell_type": "code",
   "execution_count": 25,
   "metadata": {},
   "outputs": [],
   "source": [
    "subject.add_location('/homes/nwolthuis/MaNGA/Bar-Analysis-with-Galaxy-Zoo-3D/Zooniverse_Project_Galaxies/OldSamples/Halpha/10001-12701.png')\n"
   ]
  },
  {
   "cell_type": "code",
   "execution_count": 28,
   "metadata": {},
   "outputs": [],
   "source": [
    "subject_metadata = {\n",
    "    '/homes/nwolthuis/MaNGA/Bar-Analysis-with-Galaxy-Zoo-3D/Zooniverse_Project_Galaxies/OldSamples/Halpha/10001-12701.png': {\n",
    "        'subject_reference': 1,\n",
    "        'date': '2017-01-01',\n",
    "    },\n",
    "    '/homes/nwolthuis/MaNGA/Bar-Analysis-with-Galaxy-Zoo-3D/Zooniverse_Project_Galaxies/OldSamples/EWidth/10001-12701EW.png': {\n",
    "        'subject_reference': 2,\n",
    "        'date': '2017-01-02',\n",
    "    },\n",
    "    '/homes/nwolthuis/MaNGA/Bar-Analysis-with-Galaxy-Zoo-3D/Zooniverse_Project_Galaxies/OldSamples/Images2/10001-12701IMG.png': {\n",
    "        'subject_reference': 3,\n",
    "        'date': '2017-01-03',\n",
    "    },\n",
    "}"
   ]
  },
  {
   "cell_type": "code",
   "execution_count": null,
   "metadata": {},
   "outputs": [],
   "source": [
    "subject_metadata = {\n",
    "    '/homes/nwolthuis/MaNGA/Bar-Analysis-with-Galaxy-Zoo-3D/Zooniverse_Project_Galaxies/OldSamples/Halpha/10001-12701.png': {\n",
    "        'subject_reference': 1,\n",
    "        'date': '2017-01-01',\n",
    "    },\n",
    "    '/homes/nwolthuis/MaNGA/Bar-Analysis-with-Galaxy-Zoo-3D/Zooniverse_Project_Galaxies/OldSamples/EWidth/10001-12701EW.png': {\n",
    "        'subject_reference': 2,\n",
    "        'date': '2017-01-02',\n",
    "    },\n",
    "    '/homes/nwolthuis/MaNGA/Bar-Analysis-with-Galaxy-Zoo-3D/Zooniverse_Project_Galaxies/OldSamples/Images2/10001-12701IMG.png': {\n",
    "        'subject_reference': 3,\n",
    "        'date': '2017-01-03',\n",
    "    },\n",
    "}"
   ]
  },
  {
   "cell_type": "code",
   "execution_count": null,
   "metadata": {},
   "outputs": [],
   "source": [
    "subject.add_location('/data/image.jpg')\n",
    "subject.add_location(filename)\n",
    "\n",
    "filename= '/homes/nwolthuis/MaNGA/Bar-Analysis-with-Galaxy-Zoo-3D/Zooniverse_Project_Galaxies/OldSamples/’\n"
   ]
  },
  {
   "cell_type": "code",
   "execution_count": null,
   "metadata": {},
   "outputs": [],
   "source": [
    "with Subject.async_saves():\n",
    "    local_files = [...]\n",
    "    for filename in local_files:\n",
    "        s = Subject()\n",
    "        s.links.project = 1234\n",
    "        s.add_location(filename)\n",
    "        s.save()"
   ]
  },
  {
   "cell_type": "code",
   "execution_count": null,
   "metadata": {},
   "outputs": [],
   "source": [
    "#pulling in the table for galaxies\n",
    "t = Table.read('z_Ha_filt.fits')\n",
    "\n",
    "#setting up the range\n",
    "n = len(t[\"PLATEIFU\"])\n",
    "\n",
    "#opening up and making a file\n",
    "#f= open(\"manifest.txt\",\"w+\")\n",
    "#link = 'https://lore.sdss.utah.edu/marvin/galaxy/'\n",
    "#f.write('plate-ifu, Ha, EW, IMG, link')\n",
    "\n",
    "#making a for-loop to write the txt file\n",
    "for i in range(n):\n",
    "    #defining the name for each galaxy\n",
    "    name = t[\"PLATEIFU\"][i]\n",
    "    HA = name+'.png'\n",
    "    EW = name+'EW.png'\n",
    "    IMG = name+'IMG.png'\n",
    "    L = [name, ',' , HA, ',', EW, ',', IMG, ',' , link+name,'\\n']\n",
    "    f.writelines(L)"
   ]
  }
 ],
 "metadata": {
  "kernelspec": {
   "display_name": "python-3.6.8",
   "language": "python",
   "name": "python-3.6.8"
  },
  "language_info": {
   "codemirror_mode": {
    "name": "ipython",
    "version": 3
   },
   "file_extension": ".py",
   "mimetype": "text/x-python",
   "name": "python",
   "nbconvert_exporter": "python",
   "pygments_lexer": "ipython3",
   "version": "3.6.8"
  }
 },
 "nbformat": 4,
 "nbformat_minor": 2
}
